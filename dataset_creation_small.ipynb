{
 "cells": [
  {
   "cell_type": "code",
   "execution_count": 1,
   "id": "initial_id",
   "metadata": {
    "ExecuteTime": {
     "end_time": "2025-06-03T21:59:43.955967Z",
     "start_time": "2025-06-03T21:59:42.598783Z"
    },
    "collapsed": true
   },
   "outputs": [],
   "source": [
    "import json\n",
    "import os\n",
    "import random\n",
    "import librosa\n",
    "import glob\n",
    "import numpy as np\n",
    "import pandas as pd\n",
    "import os\n",
    "import csv\n",
    "import json\n",
    "import torch.nn as nn\n",
    "import torch\n",
    "import torchaudio\n",
    "import torchaudio.transforms as T\n",
    "from sklearn.model_selection import train_test_split\n",
    "from pydub import AudioSegment\n",
    "from pydub.generators import WhiteNoise\n",
    "from tqdm import tqdm\n",
    "import warnings\n",
    "\n",
    "warnings.filterwarnings(\"ignore\", category=FutureWarning)\n",
    "warnings.filterwarnings(\"ignore\", category=UserWarning)"
   ]
  },
  {
   "cell_type": "code",
   "execution_count": 11,
   "id": "5b470b18e73267f8",
   "metadata": {
    "ExecuteTime": {
     "end_time": "2025-06-03T21:59:44.051226Z",
     "start_time": "2025-06-03T21:59:44.035582Z"
    }
   },
   "outputs": [],
   "source": [
    "with open(\"utils/config.json\") as file:\n",
    "    config = json.load(file)"
   ]
  },
  {
   "cell_type": "code",
   "execution_count": 12,
   "id": "1943e5a4dc01685c",
   "metadata": {
    "ExecuteTime": {
     "end_time": "2025-06-03T21:59:44.083243Z",
     "start_time": "2025-06-03T21:59:44.067226Z"
    }
   },
   "outputs": [
    {
     "name": "stdout",
     "output_type": "stream",
     "text": [
      "Params:\n",
      "seed: 42\n",
      "num_mixes: 10\n",
      "min_num_background_segments: 1\n",
      "max_num_background_segments: 1\n",
      "min_num_event_segments: 1\n",
      "max_num_event_segments: 1\n",
      "min_len_mixture: 10000\n",
      "max_len_mixture: 10000\n",
      "allow_same_class_background_overlap: False\n",
      "max_foreground_overlaps: 2\n",
      "allow_same_class_foreground_overlap: False\n",
      "frame_rate: 16000\n",
      "channel: 1\n",
      "\n",
      "Paths:\n",
      "data_path: audio_sources\n",
      "dataset_path: audio_sources/dataset\n",
      "background_segments_path: audio_sources/dataset/background\n",
      "event_segments_path: audio_sources/dataset/voices\n",
      "output_path: audio_sources/dataset_toy\n"
     ]
    }
   ],
   "source": [
    "params = config['params']\n",
    "paths = config['paths']\n",
    "\n",
    "print(\"Params:\")\n",
    "for key, value in params.items():\n",
    "    print(f\"{key}: {value}\")\n",
    "\n",
    "print(\"\\nPaths:\")\n",
    "for key, value in paths.items():\n",
    "    print(f\"{key}: {value}\")\n"
   ]
  },
  {
   "cell_type": "code",
   "execution_count": 13,
   "id": "38074a255e4c0a7e",
   "metadata": {
    "ExecuteTime": {
     "end_time": "2025-06-03T21:59:44.115253Z",
     "start_time": "2025-06-03T21:59:44.100247Z"
    }
   },
   "outputs": [
    {
     "name": "stdout",
     "output_type": "stream",
     "text": [
      "Cartella audio_sources creata o già esistente.\n",
      "Cartella audio_sources/dataset creata o già esistente.\n",
      "Cartella audio_sources/dataset/background creata o già esistente.\n",
      "Cartella audio_sources/dataset/voices creata o già esistente.\n",
      "Cartella audio_sources/dataset_toy creata o già esistente.\n"
     ]
    }
   ],
   "source": [
    "for key, path in config[\"paths\"].items():\n",
    "    if path.endswith(('.csv', '.json')):\n",
    "        continue\n",
    "    try:\n",
    "        os.makedirs(path, exist_ok=True)\n",
    "        print(f\"Cartella {path} creata o già esistente.\")\n",
    "    except Exception as e:\n",
    "        print(f\"Errore durante la creazione della cartella {path}: {e}\")"
   ]
  },
  {
   "cell_type": "code",
   "execution_count": 14,
   "id": "a9c9f9d2ac7cc341",
   "metadata": {
    "ExecuteTime": {
     "end_time": "2025-06-03T21:59:44.146827Z",
     "start_time": "2025-06-03T21:59:44.131245Z"
    }
   },
   "outputs": [],
   "source": [
    "def seed_everything(seed=24):\n",
    "    random.seed(seed)\n",
    "    os.environ[\"PYTHONHASHSEED\"] = str(seed)\n",
    "    np.random.seed(seed)\n",
    "\n",
    "seed_everything(config[\"params\"][\"seed\"])\n",
    "# Directory del dataset\n",
    "dataset_dir = config[\"paths\"][\"dataset_path\"]"
   ]
  },
  {
   "cell_type": "code",
   "execution_count": 18,
   "id": "2009f9ce66ac7343",
   "metadata": {
    "ExecuteTime": {
     "end_time": "2025-06-03T22:00:46.235150Z",
     "start_time": "2025-06-03T21:59:44.162928Z"
    }
   },
   "outputs": [
    {
     "name": "stderr",
     "output_type": "stream",
     "text": [
      "Processing mixes: 100%|██████████| 10/10 [00:00<00:00, 40.38it/s]\n"
     ]
    }
   ],
   "source": [
    "def get_random_segments(segments_paths_list, num_segments_list):\n",
    "    random_segments = []\n",
    "    for segments_paths, num_segments in zip(segments_paths_list, num_segments_list):\n",
    "        for _ in range(num_segments):\n",
    "            selected_class = random.choice(os.listdir(segments_paths))\n",
    "            selected_segment = random.choice(os.listdir(os.path.join(segments_paths, selected_class)))\n",
    "            random_segments.append(os.path.join(segments_paths, selected_class, selected_segment))\n",
    "    return random_segments\n",
    "\n",
    "# INIZIO DELLA CREAZIONE MIXTURE\n",
    "for num_mix in tqdm(range(config[\"params\"][\"num_mixes\"]), desc=\"Processing mixes\"):\n",
    "    len_mixture = random.randint(config['params']['min_len_mixture'], config['params']['max_len_mixture'])\n",
    "\n",
    "    # Rumore bianco\n",
    "    #noise_audio = WhiteNoise().to_audio_segment(duration=len_mixture).set_frame_rate(config[\"params\"][\"frame_rate\"]).set_channels(config[\"params\"][\"channel\"])\n",
    "    #noise_audio = noise_audio.apply_gain(random.randint(-50, -30) - noise_audio.dBFS)\n",
    "\n",
    "    # Base silenziosa + overlay rumore\n",
    "    mixture_audio = AudioSegment.silent(duration=len_mixture).set_channels(config[\"params\"][\"channel\"]).set_frame_rate(config[\"params\"][\"frame_rate\"])\n",
    "    #mixture_audio = mixture_audio.overlay(noise_audio)\n",
    "\n",
    "    # Background\n",
    "    background_audio = AudioSegment.silent(duration=len_mixture).set_channels(config[\"params\"][\"channel\"]).set_frame_rate(config[\"params\"][\"frame_rate\"])\n",
    "    num_background_segments = random.randint(config[\"params\"][\"min_num_background_segments\"], config[\"params\"][\"max_num_background_segments\"])\n",
    "    random_background = get_random_segments([config[\"paths\"][\"background_segments_path\"]], [num_background_segments])\n",
    "\n",
    "    background_info = []\n",
    "    for segment_path in random_background:\n",
    "        segment_audio = AudioSegment.from_file(segment_path)\n",
    "        start = random.randint(0, len_mixture - len(segment_audio))\n",
    "        end = start + len(segment_audio)\n",
    "        background_audio = background_audio.overlay(segment_audio, position=start)\n",
    "        background_info.append({\n",
    "            \"Path\": segment_path,\n",
    "            \"Class\": os.path.basename(os.path.dirname(segment_path)),\n",
    "            \"Start\": start,\n",
    "            \"End\": end\n",
    "        })\n",
    "\n",
    "    # Eventi\n",
    "    event_info = []\n",
    "    include_event = random.random() < 1 #qui da sempre TRUE\n",
    "    event_audio = AudioSegment.silent(duration=len_mixture).set_channels(config[\"params\"][\"channel\"]).set_frame_rate(config[\"params\"][\"frame_rate\"])\n",
    "\n",
    "    if include_event:\n",
    "        num_event_segments = random.randint(config[\"params\"][\"min_num_event_segments\"], config[\"params\"][\"max_num_event_segments\"])\n",
    "        random_event = get_random_segments([config[\"paths\"][\"event_segments_path\"]], [num_event_segments])\n",
    "        for segment_path in random_event:\n",
    "            segment_audio = AudioSegment.from_file(segment_path).apply_gain(10)\n",
    "            start = random.randint(0, len_mixture - len(segment_audio))\n",
    "            end = start + len(segment_audio)\n",
    "            event_audio = event_audio.overlay(segment_audio, position=start)\n",
    "            event_info.append({\n",
    "                \"Path\": segment_path,\n",
    "                \"Class\": os.path.basename(os.path.dirname(segment_path)),\n",
    "                \"Start\": start,\n",
    "                \"End\": end\n",
    "            })\n",
    "        mixture_audio = mixture_audio.overlay(event_audio)\n",
    "\n",
    "    # Overlay del background\n",
    "    mixture_audio = mixture_audio.overlay(background_audio)\n",
    "\n",
    "    # Gain finale\n",
    "    #mixture_audio = mixture_audio.apply_gain(random.randint(-20, -15) - mixture_audio.dBFS)\n",
    "\n",
    "    # Salvataggio\n",
    "    mix_dir = os.path.join(config[\"paths\"][\"output_path\"], f\"mix_{num_mix}\")\n",
    "    os.makedirs(mix_dir, exist_ok=True)\n",
    "\n",
    "    background_audio.export(os.path.join(mix_dir, \"background.wav\"), format=\"wav\")\n",
    "    event_audio.export(os.path.join(mix_dir, \"event.wav\"), format=\"wav\")\n",
    "    mixture_audio.export(os.path.join(mix_dir, \"mixture.wav\"), format=\"wav\")\n",
    "\n",
    "    mixture_info = {\n",
    "        \"background_info\": background_info,\n",
    "        \"event_info\": event_info if event_info else None\n",
    "    }\n",
    "    with open(os.path.join(mix_dir, \"mixture_info.json\"), 'w') as f:\n",
    "        json.dump(mixture_info, f, indent=4)\n"
   ]
  },
  {
   "cell_type": "code",
   "execution_count": null,
   "id": "241b1c48",
   "metadata": {},
   "outputs": [],
   "source": []
  }
 ],
 "metadata": {
  "kernelspec": {
   "display_name": ".venv",
   "language": "python",
   "name": "python3"
  },
  "language_info": {
   "codemirror_mode": {
    "name": "ipython",
    "version": 3
   },
   "file_extension": ".py",
   "mimetype": "text/x-python",
   "name": "python",
   "nbconvert_exporter": "python",
   "pygments_lexer": "ipython3",
   "version": "3.12.2"
  }
 },
 "nbformat": 4,
 "nbformat_minor": 5
}
