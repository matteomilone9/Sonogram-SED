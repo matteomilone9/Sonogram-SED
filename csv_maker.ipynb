{
 "cells": [
  {
   "cell_type": "code",
   "execution_count": 1,
   "id": "965b8923ef902268",
   "metadata": {
    "ExecuteTime": {
     "end_time": "2025-03-06T14:15:45.040067Z",
     "start_time": "2025-03-06T14:15:41.311943Z"
    }
   },
   "outputs": [],
   "source": [
    "import os\n",
    "import pandas as pd\n",
    "from sklearn.model_selection import train_test_split"
   ]
  },
  {
   "cell_type": "code",
   "execution_count": 2,
   "id": "15859ce4dfe04e0b",
   "metadata": {
    "ExecuteTime": {
     "end_time": "2025-03-06T14:18:14.335016Z",
     "start_time": "2025-03-06T14:18:14.332763Z"
    }
   },
   "outputs": [],
   "source": [
    "# Definisci il percorso principale\n",
    "dataset_path = \"audio_sources/dataset_toy\""
   ]
  },
  {
   "cell_type": "code",
   "execution_count": 3,
   "id": "ea67ef53a3d7942b",
   "metadata": {
    "ExecuteTime": {
     "end_time": "2025-03-06T14:19:12.593793Z",
     "start_time": "2025-03-06T14:18:15.180513Z"
    }
   },
   "outputs": [
    {
     "name": "stdout",
     "output_type": "stream",
     "text": [
      "CSV per train, validation e test creati con successo!\n"
     ]
    }
   ],
   "source": [
    "import os\n",
    "import pandas as pd\n",
    "from sklearn.model_selection import train_test_split\n",
    "\n",
    "# Lista per memorizzare i dati\n",
    "data = []\n",
    "\n",
    "# Scansiona le cartelle nel dataset\n",
    "for folder in sorted(os.listdir(dataset_path)):\n",
    "    folder_path = os.path.join(dataset_path, folder)\n",
    "    if os.path.isdir(folder_path):  # Assicurati che sia una cartella\n",
    "        event_path = os.path.join(folder_path, \"event.wav\")\n",
    "        background_path = os.path.join(folder_path, \"background.wav\")\n",
    "        mixture_path = os.path.join(folder_path, \"mixture.wav\")\n",
    "\n",
    "        # Verifica che i file esistano prima di aggiungerli\n",
    "        if os.path.isfile(event_path) and os.path.isfile(background_path) and os.path.isfile(mixture_path):\n",
    "            data.append([mixture_path, event_path, background_path])\n",
    "\n",
    "# Creazione del DataFrame\n",
    "df = pd.DataFrame(data, columns=[\"mixture\", \"event\", \"background\"])\n",
    "\n",
    "# Suddivisione del dataset\n",
    "train_df, temp_df = train_test_split(df, test_size=0.3, random_state=42)\n",
    "val_df, test_df = train_test_split(temp_df, test_size=0.5, random_state=42)\n",
    "\n",
    "# Salvataggio dei file CSV\n",
    "train_df.to_csv(\"train_dataset_wav.csv\", index=False)\n",
    "val_df.to_csv(\"val_dataset_wav.csv\", index=False)\n",
    "test_df.to_csv(\"test_dataset_wav.csv\", index=False)\n",
    "\n",
    "print(\"CSV per train, validation e test creati con successo!\")"
   ]
  },
  {
   "cell_type": "code",
   "execution_count": null,
   "id": "ffb76bab",
   "metadata": {},
   "outputs": [],
   "source": []
  }
 ],
 "metadata": {
  "kernelspec": {
   "display_name": ".venv",
   "language": "python",
   "name": "python3"
  },
  "language_info": {
   "codemirror_mode": {
    "name": "ipython",
    "version": 3
   },
   "file_extension": ".py",
   "mimetype": "text/x-python",
   "name": "python",
   "nbconvert_exporter": "python",
   "pygments_lexer": "ipython3",
   "version": "3.12.2"
  }
 },
 "nbformat": 4,
 "nbformat_minor": 5
}
