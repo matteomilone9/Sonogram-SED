{
 "cells": [
  {
   "cell_type": "code",
   "id": "965b8923ef902268",
   "metadata": {
    "ExecuteTime": {
     "end_time": "2025-06-10T13:24:59.438827Z",
     "start_time": "2025-06-10T13:24:53.244057Z"
    }
   },
   "source": [
    "import os\n",
    "import pandas as pd\n",
    "from sklearn.model_selection import train_test_split"
   ],
   "outputs": [],
   "execution_count": 1
  },
  {
   "cell_type": "code",
   "id": "15859ce4dfe04e0b",
   "metadata": {
    "ExecuteTime": {
     "end_time": "2025-06-10T13:25:21.751448Z",
     "start_time": "2025-06-10T13:25:21.749445Z"
    }
   },
   "source": [
    "# Definisci il percorso principale\n",
    "dataset_path = \"audio_sources/train_set\""
   ],
   "outputs": [],
   "execution_count": 2
  },
  {
   "cell_type": "code",
   "id": "ea67ef53a3d7942b",
   "metadata": {
    "ExecuteTime": {
     "end_time": "2025-06-10T13:26:12.674025Z",
     "start_time": "2025-06-10T13:26:02.041041Z"
    }
   },
   "source": [
    "# Lista per memorizzare i dati\n",
    "data = []\n",
    "\n",
    "# Scansiona le cartelle nel dataset\n",
    "for folder in sorted(os.listdir(dataset_path)):\n",
    "    folder_path = os.path.join(dataset_path, folder)\n",
    "    if os.path.isdir(folder_path):  # Assicurati che sia una cartella\n",
    "        event_path = os.path.join(folder_path, \"event.wav\")\n",
    "        background_path = os.path.join(folder_path, \"background.wav\")\n",
    "        mixture_path = os.path.join(folder_path, \"mixture.wav\")\n",
    "\n",
    "        # Verifica che i file esistano prima di aggiungerli\n",
    "        if os.path.isfile(event_path) and os.path.isfile(background_path) and os.path.isfile(mixture_path):\n",
    "            data.append([mixture_path, event_path, background_path])\n",
    "\n",
    "# Creazione del DataFrame\n",
    "df = pd.DataFrame(data, columns=[\"mixture\", \"event\", \"background\"])\n",
    "\n",
    "# Suddivisione del dataset\n",
    "train_df, temp_df = train_test_split(df, test_size=0.3, random_state=42)\n",
    "val_df, test_df = train_test_split(temp_df, test_size=0.5, random_state=42)\n",
    "\n",
    "# Salvataggio dei file CSV\n",
    "train_df.to_csv(\"train_wav.csv\", index=False)\n",
    "val_df.to_csv(\"val_wav.csv\", index=False)\n",
    "test_df.to_csv(\"test_wav.csv\", index=False)\n",
    "\n",
    "print(\"CSV per train, validation e test creati con successo!\")"
   ],
   "outputs": [
    {
     "name": "stdout",
     "output_type": "stream",
     "text": [
      "CSV per train, validation e test creati con successo!\n"
     ]
    }
   ],
   "execution_count": 4
  },
  {
   "cell_type": "code",
   "execution_count": null,
   "id": "ffb76bab",
   "metadata": {},
   "outputs": [],
   "source": []
  }
 ],
 "metadata": {
  "kernelspec": {
   "display_name": ".venv",
   "language": "python",
   "name": "python3"
  },
  "language_info": {
   "codemirror_mode": {
    "name": "ipython",
    "version": 3
   },
   "file_extension": ".py",
   "mimetype": "text/x-python",
   "name": "python",
   "nbconvert_exporter": "python",
   "pygments_lexer": "ipython3",
   "version": "3.12.2"
  }
 },
 "nbformat": 4,
 "nbformat_minor": 5
}
